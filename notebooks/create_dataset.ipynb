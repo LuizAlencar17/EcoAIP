{
 "cells": [
  {
   "cell_type": "markdown",
   "metadata": {},
   "source": [
    "Libs import"
   ]
  },
  {
   "cell_type": "code",
   "execution_count": 1,
   "metadata": {},
   "outputs": [],
   "source": [
    "import os\n",
    "import json\n",
    "import random\n",
    "import shutil\n",
    "import pandas as pd\n",
    "import numpy as np\n",
    "\n",
    "from tqdm import tqdm\n",
    "from datetime import datetime\n",
    "import matplotlib.pyplot as plt"
   ]
  },
  {
   "cell_type": "markdown",
   "metadata": {},
   "source": [
    "Global variabels to setup each dataset"
   ]
  },
  {
   "cell_type": "code",
   "execution_count": 5,
   "metadata": {},
   "outputs": [],
   "source": [
    "RANDOM_SEED = 42\n",
    "\n",
    "METADATA_CALTECH_PATH = \"/data/luiz/dataset/caltech/caltech_images_20210113.json\"\n",
    "DATA_CALTECH_PATH = \"/data/luiz/dataset/caltech_images/cct_images/\"\n",
    "DATA_CALTECH_SSD_PATH = \"/ssd/luiz/dataset/caltech_images/cct_images/\"\n",
    "CSV_CALTECH_PATH = \"/data/luiz/dataset/partitions/animal-classifier/caltech\"\n",
    "\n",
    "METADATA_SERENGETI_PATH = \"/data/luiz/dataset/serengeti/SnapshotSerengeti_S1-11_v2.1.json\"\n",
    "DATA_SERENGETI_PATH = \"/data/luiz/dataset/serengeti_images/\"\n",
    "DATA_SERENGETI_SSD_PATH = \"/ssd/luiz/dataset/serengeti_images/\"\n",
    "CSV_SERENGETI_PATH = \"/data/luiz/dataset/partitions/animal-classifier/serengeti\"\n",
    "\n",
    "METADATA_WCS_PATH = \"/data/luiz/dataset/wcs/wcs_camera_traps.json\"\n",
    "DATA_WCS_PATH = \"/data/luiz/dataset/wcs_images/\"\n",
    "DATA_WCS_SSD_PATH = \"/ssd/luiz/dataset/wcs_images/\"\n",
    "CSV_WCS_PATH = \"/data/luiz/dataset/partitions/animal-classifier/wcs\""
   ]
  },
  {
   "cell_type": "markdown",
   "metadata": {},
   "source": [
    "Helpers functions"
   ]
  },
  {
   "cell_type": "code",
   "execution_count": 4,
   "metadata": {},
   "outputs": [],
   "source": [
    "def softly_balance_dataset(df, category_col='category', \n",
    "                           min_threshold=20,    # drop classes below this\n",
    "                           soft_cap=1500,       # max images per class\n",
    "                           ):\n",
    "    \"\"\"\n",
    "    Intelligently balances dataset without strict equal class counts.\n",
    "\n",
    "    - Drops very rare classes.\n",
    "    - Keeps all samples from small/medium classes.\n",
    "    - Caps large classes to soft_cap size.\n",
    "    \n",
    "    Returns a moderately balanced dataset.\n",
    "    \"\"\"\n",
    "\n",
    "    # Count samples per category\n",
    "    class_counts = df[category_col].value_counts()\n",
    "    \n",
    "    # Categorize classes\n",
    "    dropped_classes = class_counts[class_counts < min_threshold].index\n",
    "    capped_classes = class_counts[class_counts > soft_cap].index\n",
    "\n",
    "    # Drop rare classes\n",
    "    filtered_df = df[~df[category_col].isin(dropped_classes)]\n",
    "\n",
    "    # Undersample overly large classes\n",
    "    def smart_sample(group):\n",
    "        if group.name in capped_classes:\n",
    "            return group.sample(n=soft_cap, random_state=RANDOM_SEED)\n",
    "        return group\n",
    "\n",
    "    balanced_df = (\n",
    "        filtered_df\n",
    "        .groupby(category_col)\n",
    "        .apply(smart_sample)\n",
    "        .reset_index(drop=True)\n",
    "    )\n",
    "\n",
    "    return balanced_df\n",
    "\n",
    "def check_file_exists(file_path):\n",
    "    return os.path.exists(file_path)\n",
    "\n",
    "def load_json(json_file_path):\n",
    "    print(f\"Loading JSON file from {json_file_path}\")\n",
    "    with open(json_file_path, 'r') as f:\n",
    "        return json.load(f)\n",
    "\n",
    "def partition_by_location(df, train_frac=0.7, val_frac=0.15, test_frac=0.15):\n",
    "    # Unique locations\n",
    "    df = softly_balance_dataset(df)\n",
    "    locations = df['location'].unique()\n",
    "    random.seed(RANDOM_SEED)\n",
    "    random.shuffle(locations)\n",
    "    \n",
    "    # Determine split sizes\n",
    "    n = len(locations)\n",
    "    train_end = int(train_frac * n)\n",
    "    val_end = train_end + int(val_frac * n)\n",
    "    \n",
    "    # Assign locations to partitions\n",
    "    train_locs = set(locations[:train_end])\n",
    "    val_locs = set(locations[train_end:val_end])\n",
    "    test_locs = set(locations[val_end:])\n",
    "    \n",
    "    # Filter DataFrames\n",
    "    train_df = df[df['location'].isin(train_locs)].reset_index(drop=True)\n",
    "    val_df = df[df['location'].isin(val_locs)].reset_index(drop=True)\n",
    "    test_df = df[df['location'].isin(test_locs)].reset_index(drop=True)\n",
    "    \n",
    "    return train_df, val_df, test_df\n",
    "\n",
    "def copy_images(df, src_dir, dst_dir):\n",
    "    \"\"\"\n",
    "    Copies images listed in the DataFrame from src_dir to dst_dir.\n",
    "    \n",
    "    Parameters:\n",
    "    - df: pandas DataFrame with 'path' column.\n",
    "    - src_dir: source directory containing the images.\n",
    "    - dst_dir: destination directory where images will be copied.\n",
    "    \"\"\"\n",
    "    os.makedirs(dst_dir, exist_ok=True)\n",
    "    \n",
    "    for filename in tqdm(df['path'], desc=f\"Copying to {dst_dir}\"):\n",
    "        src_path = os.path.join(src_dir, filename)\n",
    "        dst_path = os.path.join(dst_dir, filename)\n",
    "        \n",
    "        # Ensure destination subdirectory exists if necessary\n",
    "        os.makedirs(os.path.dirname(dst_path), exist_ok=True)\n",
    "        \n",
    "        try:\n",
    "            shutil.copy2(src_path, dst_path)  # copy2 preserves metadata\n",
    "        except FileNotFoundError:\n",
    "            print(f\"Warning: {src_path} not found.\")\n",
    "\n",
    "def save_partitioned_dataframes(train_df, val_df, test_df, base_path, image_path):\n",
    "    \"\"\"\n",
    "    Saves the partitioned DataFrames to CSV files.\n",
    "    \n",
    "    Parameters:\n",
    "    - train_df, val_df, test_df: DataFrames to save.\n",
    "    - base_path: Base directory where the CSV files will be saved.\n",
    "    \"\"\"\n",
    "    train_df[\"path\"] = train_df[\"path\"].apply(lambda x: os.path.join(image_path, x))\n",
    "    val_df[\"path\"] = val_df[\"path\"].apply(lambda x: os.path.join(image_path, x))\n",
    "    test_df[\"path\"] = test_df[\"path\"].apply(lambda x: os.path.join(image_path, x))\n",
    "\n",
    "    train_df.to_csv(os.path.join(base_path, 'train.csv'), index=False)\n",
    "    val_df.to_csv(os.path.join(base_path, 'val.csv'), index=False)\n",
    "    test_df.to_csv(os.path.join(base_path, 'test.csv'), index=False)\n",
    "\n",
    "def plot_category_distribution_multiple(train_df, val_df, test_df, title=\"Category Distribution Across Partitions\"):\n",
    "    \"\"\"\n",
    "    Plots the category distribution for train, validation, and test DataFrames in a grouped bar chart.\n",
    "    \n",
    "    Parameters:\n",
    "    - train_df, val_df, test_df: DataFrames with 'category' column.\n",
    "    - title: Title of the plot.\n",
    "    \"\"\"\n",
    "    # Get all unique categories across all partitions\n",
    "    all_categories = pd.concat([train_df['category'], val_df['category'], test_df['category']]).unique()\n",
    "    all_categories = sorted(all_categories)\n",
    "    \n",
    "    # Count categories in each partition\n",
    "    train_counts = train_df['category'].value_counts().reindex(all_categories, fill_value=0)\n",
    "    val_counts = val_df['category'].value_counts().reindex(all_categories, fill_value=0)\n",
    "    test_counts = test_df['category'].value_counts().reindex(all_categories, fill_value=0)\n",
    "    \n",
    "    x = np.arange(len(all_categories))  # Category positions\n",
    "    width = 0.25  # Bar width\n",
    "\n",
    "    # Plot\n",
    "    plt.figure(figsize=(12, 6))\n",
    "    plt.bar(x - width, train_counts, width, label='Train')\n",
    "    plt.bar(x, val_counts, width, label='Validation')\n",
    "    plt.bar(x + width, test_counts, width, label='Test')\n",
    "\n",
    "    plt.xlabel('Category ID')\n",
    "    plt.ylabel('Count')\n",
    "    plt.title(title)\n",
    "    plt.xticks(ticks=x, labels=all_categories, rotation=45)\n",
    "    plt.legend()\n",
    "    plt.grid(axis='y', linestyle='--', alpha=0.7)\n",
    "    \n",
    "    plt.tight_layout()\n",
    "    plt.show()"
   ]
  },
  {
   "cell_type": "code",
   "execution_count": 22,
   "metadata": {},
   "outputs": [],
   "source": [
    "def get_caltech_dataset():\n",
    "    data = load_json(METADATA_CALTECH_PATH)\n",
    "\n",
    "    # Build image ID to category ID mapping\n",
    "    image_category_map = {}\n",
    "    for ann in data['annotations']:\n",
    "        image_id = ann['image_id']\n",
    "        category_id = ann['category_id']\n",
    "        image_category_map[image_id] = category_id\n",
    "    \n",
    "    # Prepare data for DataFrame\n",
    "    records = []\n",
    "    for img in tqdm(data['images']):\n",
    "        path = img['file_name'].replace('.jpg', '.JPG')\n",
    "        # Robust timestamp parsing\n",
    "        date_str = img.get('date_captured', '')\n",
    "        try:\n",
    "            timestamp = datetime.strptime(date_str, \"%Y-%m-%d %H:%M:%S\").isoformat()\n",
    "        except ValueError:\n",
    "            timestamp = None\n",
    "        if not check_file_exists(DATA_CALTECH_PATH + path) or timestamp is None:\n",
    "            continue\n",
    "        image_id = img['id']\n",
    "        category = image_category_map.get(image_id, None)\n",
    "        location = img.get('location', None)\n",
    "        \n",
    "        records.append({\n",
    "            'path': path,\n",
    "            'category': category,\n",
    "            'timestamp': timestamp,\n",
    "            'location': location\n",
    "        })\n",
    "    \n",
    "    # Create DataFrame\n",
    "    df = pd.DataFrame(records)\n",
    "    df.category.replace(30, 0, inplace=True)  # Replace category 30 with 0\n",
    "    return df\n",
    "\n",
    "def get_wcs_dataset():\n",
    "    data = load_json(METADATA_WCS_PATH)\n",
    "    \n",
    "    # Build mapping from image_id to category_id\n",
    "    image_category_map = {\n",
    "        ann['image_id']: ann['category_id']\n",
    "        for ann in data.get('annotations', [])\n",
    "    }\n",
    "    \n",
    "    # Extract records from images\n",
    "    records = []\n",
    "    for img in tqdm(data.get('images', [])):\n",
    "        path = img['file_name']\n",
    "        image_id = img['id']\n",
    "        category = image_category_map.get(image_id, None)\n",
    "\n",
    "        # Convert timestamp safely\n",
    "        date_str = img.get('datetime', '')\n",
    "        if not check_file_exists(DATA_WCS_PATH + path):\n",
    "            continue\n",
    "\n",
    "        location = img.get('location', None)\n",
    "\n",
    "        records.append({\n",
    "            'path': path,\n",
    "            'category': category,\n",
    "            'timestamp': date_str,\n",
    "            'location': location\n",
    "        })\n",
    "    \n",
    "    return pd.DataFrame(records)\n",
    "\n",
    "def get_serengeti_dataset():\n",
    "    data = load_json(METADATA_SERENGETI_PATH)\n",
    "\n",
    "    # Convert images and annotations to DataFrames\n",
    "    images_df = pd.DataFrame(data['images'])\n",
    "    annotations_df = pd.DataFrame(data['annotations'])\n",
    "\n",
    "    # Filter out corrupt images\n",
    "    images_df = images_df[images_df['corrupt'] == False]\n",
    "\n",
    "    # Merge annotations with images (include 'corrupt' check already done)\n",
    "    merged_df = pd.merge(\n",
    "        annotations_df,\n",
    "        images_df[['id', 'file_name']],\n",
    "        left_on='image_id',\n",
    "        right_on='id',\n",
    "        how='inner'  # inner ensures only non-corrupt matched entries\n",
    "    )\n",
    "\n",
    "    # Build the result DataFrame\n",
    "    result_df = merged_df[['file_name', 'category_id', 'datetime', 'location']]\n",
    "    result_df.columns = ['path', 'category', 'timestamp', 'location']\n",
    "\n",
    "    # Enable tqdm on apply\n",
    "    tqdm.pandas(desc=\"Checking file existence\")\n",
    "\n",
    "    # Check file existence with progress\n",
    "    result_df['exists'] = result_df['path'].progress_apply(\n",
    "        lambda p: check_file_exists(DATA_SERENGETI_PATH + p)\n",
    "    )\n",
    "\n",
    "    # Keep only existing files\n",
    "    result_df = result_df[result_df['exists']]\n",
    "\n",
    "    return result_df[['path', 'category', 'timestamp', 'location']]"
   ]
  },
  {
   "cell_type": "markdown",
   "metadata": {},
   "source": [
    "Creating Caltech dataset"
   ]
  },
  {
   "cell_type": "code",
   "execution_count": 14,
   "metadata": {},
   "outputs": [
    {
     "name": "stderr",
     "output_type": "stream",
     "text": [
      "100%|██████████| 243100/243100 [00:06<00:00, 35709.96it/s]\n",
      "/tmp/ipykernel_20570/2034326072.py:66: FutureWarning: A value is trying to be set on a copy of a DataFrame or Series through chained assignment using an inplace method.\n",
      "The behavior will change in pandas 3.0. This inplace method will never work because the intermediate object on which we are setting values always behaves as a copy.\n",
      "\n",
      "For example, when doing 'df[col].method(value, inplace=True)', try using 'df.method({col: value}, inplace=True)' or df[col] = df[col].method(value) instead, to perform the operation inplace on the original object.\n",
      "\n",
      "\n",
      "  df.category.replace(30, 0, inplace=True)  # Replace category 30 with 0\n"
     ]
    }
   ],
   "source": [
    "df = get_caltech_dataset()"
   ]
  },
  {
   "cell_type": "code",
   "execution_count": 16,
   "metadata": {},
   "outputs": [
    {
     "name": "stdout",
     "output_type": "stream",
     "text": [
      "Train: 10000, Val: 5000, Test: 5000\n"
     ]
    }
   ],
   "source": [
    "train_df, val_df, test_df = partition_by_location(df)\n",
    "\n",
    "train_df = train_df.sample(10000, random_state=RANDOM_SEED).reset_index(drop=True)\n",
    "val_df = val_df.sample(5000, random_state=RANDOM_SEED).reset_index(drop=True)\n",
    "test_df = test_df.sample(5000, random_state=RANDOM_SEED).reset_index(drop=True)\n",
    "\n",
    "print(f\"Train: {len(train_df)}, Val: {len(val_df)}, Test: {len(test_df)}\")\n",
    "\n",
    "copy_images(pd.concat([train_df, val_df, test_df]), src_dir=DATA_CALTECH_PATH, dst_dir=DATA_CALTECH_SSD_PATH)\n",
    "save_partitioned_dataframes(train_df, val_df, test_df, CSV_CALTECH_PATH, DATA_CALTECH_SSD_PATH)\n",
    "\n",
    "plot_category_distribution_multiple(train_df, val_df, test_df)"
   ]
  },
  {
   "cell_type": "markdown",
   "metadata": {},
   "source": [
    "Creating Serengeti dataset"
   ]
  },
  {
   "cell_type": "code",
   "execution_count": 5,
   "metadata": {},
   "outputs": [
    {
     "name": "stdout",
     "output_type": "stream",
     "text": [
      "Loading JSON file from /data/luiz/dataset/serengeti/SnapshotSerengeti_S1-11_v2.1.json\n"
     ]
    },
    {
     "name": "stderr",
     "output_type": "stream",
     "text": [
      "Checking file existence: 100%|██████████| 7261545/7261545 [01:55<00:00, 63064.98it/s] \n",
      "/tmp/ipykernel_8107/186987313.py:66: SettingWithCopyWarning: \n",
      "A value is trying to be set on a copy of a slice from a DataFrame.\n",
      "Try using .loc[row_indexer,col_indexer] = value instead\n",
      "\n",
      "See the caveats in the documentation: https://pandas.pydata.org/pandas-docs/stable/user_guide/indexing.html#returning-a-view-versus-a-copy\n",
      "  result_df['exists'] = result_df['path'].progress_apply(\n"
     ]
    }
   ],
   "source": [
    "df = get_serengeti_dataset()"
   ]
  },
  {
   "cell_type": "code",
   "execution_count": 29,
   "metadata": {},
   "outputs": [
    {
     "name": "stdout",
     "output_type": "stream",
     "text": [
      "Train: 10000, Val: 5000, Test: 5000\n"
     ]
    },
    {
     "name": "stderr",
     "output_type": "stream",
     "text": [
      "/tmp/ipykernel_8107/2564743755.py:33: DeprecationWarning: DataFrameGroupBy.apply operated on the grouping columns. This behavior is deprecated, and in a future version of pandas the grouping columns will be excluded from the operation. Either pass `include_groups=False` to exclude the groupings or explicitly select the grouping columns after groupby to silence this warning.\n",
      "  filtered_df\n"
     ]
    }
   ],
   "source": [
    "train_df, val_df, test_df = partition_by_location(df)\n",
    "\n",
    "train_df = train_df.sample(10000, random_state=RANDOM_SEED).reset_index(drop=True)\n",
    "val_df = val_df.sample(5000, random_state=RANDOM_SEED).reset_index(drop=True)\n",
    "test_df = test_df.sample(5000, random_state=RANDOM_SEED).reset_index(drop=True)\n",
    "\n",
    "print(f\"Train: {len(train_df)}, Val: {len(val_df)}, Test: {len(test_df)}\")\n",
    "\n",
    "copy_images(pd.concat([train_df, val_df, test_df]), src_dir=DATA_SERENGETI_PATH, dst_dir=DATA_SERENGETI_SSD_PATH)\n",
    "save_partitioned_dataframes(train_df, val_df, test_df, CSV_SERENGETI_PATH, DATA_SERENGETI_SSD_PATH)\n",
    "\n",
    "plot_category_distribution_multiple(train_df, val_df, test_df)"
   ]
  },
  {
   "cell_type": "markdown",
   "metadata": {},
   "source": [
    "Creating WCS dataset"
   ]
  },
  {
   "cell_type": "code",
   "execution_count": null,
   "metadata": {},
   "outputs": [
    {
     "name": "stdout",
     "output_type": "stream",
     "text": [
      "Loading JSON file from /data/luiz/dataset/serengeti/SnapshotSerengeti_S1-11_v2.1.json\n"
     ]
    },
    {
     "name": "stderr",
     "output_type": "stream",
     "text": [
      "Checking file existence: 100%|██████████| 7261545/7261545 [01:55<00:00, 63064.98it/s] \n",
      "/tmp/ipykernel_8107/186987313.py:66: SettingWithCopyWarning: \n",
      "A value is trying to be set on a copy of a slice from a DataFrame.\n",
      "Try using .loc[row_indexer,col_indexer] = value instead\n",
      "\n",
      "See the caveats in the documentation: https://pandas.pydata.org/pandas-docs/stable/user_guide/indexing.html#returning-a-view-versus-a-copy\n",
      "  result_df['exists'] = result_df['path'].progress_apply(\n"
     ]
    }
   ],
   "source": [
    "df = get_wcs_dataset()"
   ]
  },
  {
   "cell_type": "code",
   "execution_count": 20,
   "metadata": {},
   "outputs": [
    {
     "data": {
      "image/png": "[encoded data removed]",
      "text/plain": [
       "<Figure size 1200x600 with 1 Axes>"
      ]
     },
     "metadata": {},
     "output_type": "display_data"
    }
   ],
   "source": [
    "train_df, val_df, test_df = partition_by_location(df)\n",
    "\n",
    "train_df = train_df.sample(10000, random_state=RANDOM_SEED).reset_index(drop=True)\n",
    "val_df = val_df.sample(5000, random_state=RANDOM_SEED).reset_index(drop=True)\n",
    "test_df = test_df.sample(5000, random_state=RANDOM_SEED).reset_index(drop=True)\n",
    "\n",
    "print(f\"Train: {len(train_df)}, Val: {len(val_df)}, Test: {len(test_df)}\")\n",
    "\n",
    "copy_images(pd.concat([train_df, val_df, test_df]), src_dir=DATA_WCS_PATH, dst_dir=DATA_WCS_SSD_PATH)\n",
    "save_partitioned_dataframes(train_df, val_df, test_df, CSV_WCS_PATH, DATA_WCS_SSD_PATH)\n",
    "\n",
    "plot_category_distribution_multiple(train_df, val_df, test_df)"
   ]
  },
  {
   "cell_type": "code",
   "execution_count": null,
   "metadata": {},
   "outputs": [],
   "source": []
  },
  {
   "cell_type": "code",
   "execution_count": null,
   "metadata": {},
   "outputs": [],
   "source": []
  }
 ],
 "metadata": {
  "kernelspec": {
   "display_name": "luiz",
   "language": "python",
   "name": "python3"
  },
  "language_info": {
   "codemirror_mode": {
    "name": "ipython",
    "version": 3
   },
   "file_extension": ".py",
   "mimetype": "text/x-python",
   "name": "python",
   "nbconvert_exporter": "python",
   "pygments_lexer": "ipython3",
   "version": "3.9.21"
  }
 },
 "nbformat": 4,
 "nbformat_minor": 2
}
