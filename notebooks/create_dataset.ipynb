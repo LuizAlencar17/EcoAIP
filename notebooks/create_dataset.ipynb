{
 "cells": [
  {
   "cell_type": "markdown",
   "metadata": {},
   "source": [
    "Libs import"
   ]
  },
  {
   "cell_type": "code",
   "execution_count": 3,
   "metadata": {},
   "outputs": [],
   "source": [
    "import os\n",
    "import json\n",
    "import random\n",
    "import shutil\n",
    "import pandas as pd\n",
    "import numpy as np\n",
    "\n",
    "from tqdm import tqdm\n",
    "from datetime import datetime\n",
    "import matplotlib.pyplot as plt"
   ]
  },
  {
   "cell_type": "markdown",
   "metadata": {},
   "source": [
    "Global variabels to setup each dataset"
   ]
  },
  {
   "cell_type": "code",
   "execution_count": null,
   "metadata": {},
   "outputs": [],
   "source": [
    "METADATA_CALTECH_PATH = \"/data/luiz/dataset/caltech/caltech_images_20210113.json\"\n",
    "DATA_CALTECH_PATH = \"/data/luiz/dataset/caltech_images/cct_images/\"\n",
    "DATA_CALTECH_SSD_PATH = \"/ssd/luiz/dataset/caltech_images/cct_images/\"\n",
    "CSV_CALTECH_PATH = \"/data/luiz/dataset/partitions/animal-classifier/caltech\""
   ]
  },
  {
   "cell_type": "markdown",
   "metadata": {},
   "source": [
    "Helpers functions"
   ]
  },
  {
   "cell_type": "code",
   "execution_count": 13,
   "metadata": {},
   "outputs": [],
   "source": [
    "def check_file_exists(file_path):\n",
    "    return os.path.exists(file_path)\n",
    "\n",
    "def load_json(json_file_path):\n",
    "    with open(json_file_path, 'r') as f:\n",
    "        return json.load(f)\n",
    "\n",
    "def partition_by_location(df, train_frac=0.7, val_frac=0.15, test_frac=0.15, random_seed=42):\n",
    "    # Unique locations\n",
    "    locations = df['location'].unique()\n",
    "    random.seed(random_seed)\n",
    "    random.shuffle(locations)\n",
    "    \n",
    "    # Determine split sizes\n",
    "    n = len(locations)\n",
    "    train_end = int(train_frac * n)\n",
    "    val_end = train_end + int(val_frac * n)\n",
    "    \n",
    "    # Assign locations to partitions\n",
    "    train_locs = set(locations[:train_end])\n",
    "    val_locs = set(locations[train_end:val_end])\n",
    "    test_locs = set(locations[val_end:])\n",
    "    \n",
    "    # Filter DataFrames\n",
    "    train_df = df[df['location'].isin(train_locs)].reset_index(drop=True)\n",
    "    val_df = df[df['location'].isin(val_locs)].reset_index(drop=True)\n",
    "    test_df = df[df['location'].isin(test_locs)].reset_index(drop=True)\n",
    "    \n",
    "    return train_df, val_df, test_df\n",
    "\n",
    "def get_caltech_dataset():\n",
    "    data = load_json(METADATA_CALTECH_PATH)\n",
    "\n",
    "    # Build image ID to category ID mapping\n",
    "    image_category_map = {}\n",
    "    for ann in data['annotations']:\n",
    "        image_id = ann['image_id']\n",
    "        category_id = ann['category_id']\n",
    "        image_category_map[image_id] = category_id\n",
    "    \n",
    "    # Prepare data for DataFrame\n",
    "    records = []\n",
    "    for img in tqdm(data['images']):\n",
    "        path = img['file_name'].replace('.jpg', '.JPG')\n",
    "        # Robust timestamp parsing\n",
    "        date_str = img.get('date_captured', '')\n",
    "        try:\n",
    "            timestamp = datetime.strptime(date_str, \"%Y-%m-%d %H:%M:%S\").isoformat()\n",
    "        except ValueError:\n",
    "            timestamp = None\n",
    "        if not check_file_exists(DATA_CALTECH_PATH + path) or timestamp is None:\n",
    "            continue\n",
    "        image_id = img['id']\n",
    "        category = image_category_map.get(image_id, None)\n",
    "        location = img.get('location', None)\n",
    "        \n",
    "        records.append({\n",
    "            'path': path,\n",
    "            'category': category,\n",
    "            'timestamp': timestamp,\n",
    "            'location': location\n",
    "        })\n",
    "    \n",
    "    # Create DataFrame\n",
    "    df = pd.DataFrame(records)\n",
    "    df.category.replace(30, 0, inplace=True)  # Replace category 30 with 0\n",
    "    return df\n",
    "\n",
    "def copy_images(df, src_dir, dst_dir):\n",
    "    \"\"\"\n",
    "    Copies images listed in the DataFrame from src_dir to dst_dir.\n",
    "    \n",
    "    Parameters:\n",
    "    - df: pandas DataFrame with 'path' column.\n",
    "    - src_dir: source directory containing the images.\n",
    "    - dst_dir: destination directory where images will be copied.\n",
    "    \"\"\"\n",
    "    os.makedirs(dst_dir, exist_ok=True)\n",
    "    \n",
    "    for filename in tqdm(df['path'], desc=f\"Copying to {dst_dir}\"):\n",
    "        src_path = os.path.join(src_dir, filename)\n",
    "        dst_path = os.path.join(dst_dir, filename)\n",
    "        \n",
    "        # Ensure destination subdirectory exists if necessary\n",
    "        os.makedirs(os.path.dirname(dst_path), exist_ok=True)\n",
    "        \n",
    "        try:\n",
    "            shutil.copy2(src_path, dst_path)  # copy2 preserves metadata\n",
    "        except FileNotFoundError:\n",
    "            print(f\"Warning: {src_path} not found.\")\n",
    "\n",
    "def save_partitioned_dataframes(train_df, val_df, test_df, base_path, image_path):\n",
    "    \"\"\"\n",
    "    Saves the partitioned DataFrames to CSV files.\n",
    "    \n",
    "    Parameters:\n",
    "    - train_df, val_df, test_df: DataFrames to save.\n",
    "    - base_path: Base directory where the CSV files will be saved.\n",
    "    \"\"\"\n",
    "    train_df[\"path\"] = train_df[\"path\"].apply(lambda x: os.path.join(image_path, x))\n",
    "    val_df[\"path\"] = val_df[\"path\"].apply(lambda x: os.path.join(image_path, x))\n",
    "    test_df[\"path\"] = test_df[\"path\"].apply(lambda x: os.path.join(image_path, x))\n",
    "\n",
    "    train_df.to_csv(os.path.join(base_path, 'train.csv'), index=False)\n",
    "    val_df.to_csv(os.path.join(base_path, 'val.csv'), index=False)\n",
    "    test_df.to_csv(os.path.join(base_path, 'test.csv'), index=False)\n",
    "\n",
    "def plot_category_distribution_multiple(train_df, val_df, test_df, title=\"Category Distribution Across Partitions\"):\n",
    "    \"\"\"\n",
    "    Plots the category distribution for train, validation, and test DataFrames in a grouped bar chart.\n",
    "    \n",
    "    Parameters:\n",
    "    - train_df, val_df, test_df: DataFrames with 'category' column.\n",
    "    - title: Title of the plot.\n",
    "    \"\"\"\n",
    "    # Get all unique categories across all partitions\n",
    "    all_categories = pd.concat([train_df['category'], val_df['category'], test_df['category']]).unique()\n",
    "    all_categories = sorted(all_categories)\n",
    "    \n",
    "    # Count categories in each partition\n",
    "    train_counts = train_df['category'].value_counts().reindex(all_categories, fill_value=0)\n",
    "    val_counts = val_df['category'].value_counts().reindex(all_categories, fill_value=0)\n",
    "    test_counts = test_df['category'].value_counts().reindex(all_categories, fill_value=0)\n",
    "    \n",
    "    x = np.arange(len(all_categories))  # Category positions\n",
    "    width = 0.25  # Bar width\n",
    "\n",
    "    # Plot\n",
    "    plt.figure(figsize=(12, 6))\n",
    "    plt.bar(x - width, train_counts, width, label='Train')\n",
    "    plt.bar(x, val_counts, width, label='Validation')\n",
    "    plt.bar(x + width, test_counts, width, label='Test')\n",
    "\n",
    "    plt.xlabel('Category ID')\n",
    "    plt.ylabel('Count')\n",
    "    plt.title(title)\n",
    "    plt.xticks(ticks=x, labels=all_categories, rotation=45)\n",
    "    plt.legend()\n",
    "    plt.grid(axis='y', linestyle='--', alpha=0.7)\n",
    "    \n",
    "    plt.tight_layout()\n",
    "    plt.show()"
   ]
  },
  {
   "cell_type": "markdown",
   "metadata": {},
   "source": [
    "Creating Caltech dataset"
   ]
  },
  {
   "cell_type": "code",
   "execution_count": 14,
   "metadata": {},
   "outputs": [
    {
     "name": "stderr",
     "output_type": "stream",
     "text": [
      "100%|██████████| 243100/243100 [00:06<00:00, 35709.96it/s]\n",
      "/tmp/ipykernel_20570/2034326072.py:66: FutureWarning: A value is trying to be set on a copy of a DataFrame or Series through chained assignment using an inplace method.\n",
      "The behavior will change in pandas 3.0. This inplace method will never work because the intermediate object on which we are setting values always behaves as a copy.\n",
      "\n",
      "For example, when doing 'df[col].method(value, inplace=True)', try using 'df.method({col: value}, inplace=True)' or df[col] = df[col].method(value) instead, to perform the operation inplace on the original object.\n",
      "\n",
      "\n",
      "  df.category.replace(30, 0, inplace=True)  # Replace category 30 with 0\n"
     ]
    }
   ],
   "source": [
    "df = get_caltech_dataset()"
   ]
  },
  {
   "cell_type": "code",
   "execution_count": 16,
   "metadata": {},
   "outputs": [
    {
     "name": "stdout",
     "output_type": "stream",
     "text": [
      "Train: 10000, Val: 5000, Test: 5000\n"
     ]
    }
   ],
   "source": [
    "train_df, val_df, test_df = partition_by_location(df)\n",
    "\n",
    "train_df = train_df.sample(10000).reset_index(drop=True)\n",
    "val_df = val_df.sample(5000).reset_index(drop=True)\n",
    "test_df = test_df.sample(5000).reset_index(drop=True)\n",
    "\n",
    "print(f\"Train: {len(train_df)}, Val: {len(val_df)}, Test: {len(test_df)}\")"
   ]
  },
  {
   "cell_type": "code",
   "execution_count": 59,
   "metadata": {},
   "outputs": [
    {
     "name": "stderr",
     "output_type": "stream",
     "text": [
      "Copying to /ssd/luiz/dataset/caltech_images/cct_images/: 100%|██████████| 10000/10000 [02:05<00:00, 79.47it/s]\n",
      "Copying to /ssd/luiz/dataset/caltech_images/cct_images/: 100%|██████████| 5000/5000 [01:12<00:00, 68.57it/s]\n",
      "Copying to /ssd/luiz/dataset/caltech_images/cct_images/: 100%|██████████| 5000/5000 [01:12<00:00, 68.98it/s]\n"
     ]
    }
   ],
   "source": [
    "copy_images(pd.concat[train_df, val_df, test_df], src_dir=DATA_CALTECH_PATH, dst_dir=DATA_CALTECH_SSD_PATH)\n",
    "save_partitioned_dataframes(train_df, val_df, test_df, CSV_CALTECH_PATH, DATA_CALTECH_SSD_PATH)"
   ]
  },
  {
   "cell_type": "code",
   "execution_count": 18,
   "metadata": {},
   "outputs": [
    {
     "data": {
      "image/png": "[encoded data removed]",
      "text/plain": [
       "<Figure size 1200x600 with 1 Axes>"
      ]
     },
     "metadata": {},
     "output_type": "display_data"
    }
   ],
   "source": [
    "plot_category_distribution_multiple(train_df, val_df, test_df)"
   ]
  },
  {
   "cell_type": "code",
   "execution_count": null,
   "metadata": {},
   "outputs": [],
   "source": []
  },
  {
   "cell_type": "code",
   "execution_count": null,
   "metadata": {},
   "outputs": [],
   "source": []
  }
 ],
 "metadata": {
  "kernelspec": {
   "display_name": "luiz",
   "language": "python",
   "name": "python3"
  },
  "language_info": {
   "codemirror_mode": {
    "name": "ipython",
    "version": 3
   },
   "file_extension": ".py",
   "mimetype": "text/x-python",
   "name": "python",
   "nbconvert_exporter": "python",
   "pygments_lexer": "ipython3",
   "version": "3.9.21"
  }
 },
 "nbformat": 4,
 "nbformat_minor": 2
}
